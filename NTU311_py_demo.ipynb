{
 "cells": [
  {
   "cell_type": "code",
   "execution_count": 1,
   "metadata": {},
   "outputs": [],
   "source": [
    "from pyquery import PyQuery as pq\n",
    "from selenium import webdriver\n",
    "import requests\n",
    "import pandas as pd\n",
    "import time,datetime  #時間套件 日期輸出\n",
    "import random"
   ]
  },
  {
   "cell_type": "code",
   "execution_count": 2,
   "metadata": {},
   "outputs": [],
   "source": [
    "def fb_Crawler(url):\n",
    "    #scroll To 50000px\n",
    "    driver.get(url)\n",
    "    last_height = 0\n",
    "    while True:\n",
    "        box = driver.find_elements_by_css_selector(\"body\")[0]\n",
    "        driver.execute_script(\"window.scrollTo(0,{})\".format(box.size['height']))\n",
    "#         print(box.size['height'])\n",
    "        time.sleep(1)\n",
    "        time.sleep(0.5+random.random()*1)\n",
    "        if last_height >= 100000:\n",
    "#             print(\"last height\", last_height)\n",
    "            break\n",
    "        else:\n",
    "            last_height = int(box.size['height'])\n",
    "\n",
    "    html = driver.find_element_by_css_selector('*').get_attribute('outerHTML')\n",
    "    doc = pq(html)\n",
    "    fb_content_list = my_content(doc)\n",
    "    return fb_content_list"
   ]
  },
  {
   "cell_type": "code",
   "execution_count": 3,
   "metadata": {},
   "outputs": [],
   "source": [
    "def my_content(doc):\n",
    "    my_list2 = []\n",
    "    for i in doc(\"._3ccb\").items():\n",
    "        my_list1 = []\n",
    "        fb_time = (i(\"._1dwg .timestampContent\").text())\n",
    "        fb_content = (i(\"._1dwg p\").text()[0:10].replace(\"\\n\",\"\"))\n",
    "        if fb_content == \"\":\n",
    "            fb_content = (\"更新封面照片或其他\")\n",
    "        fb_like = (i(\"._3vum a ._3dli\").text())\n",
    "        if fb_like == \"\": #它可能是直播\n",
    "            fb_like = (i(\".UFILikeSentenceText\").text().split()[-2])\n",
    "            if \"萬\" in (i(\".UFILikeSentenceText\").text().split()[-1]):\n",
    "                fb_like += \" 萬\"\n",
    "            fb_msg = \"video\"\n",
    "            try:\n",
    "#                 print(i(\".UFIShareRow\").text())\n",
    "                fb_share = (i(\".UFIShareRow\").text().split()[0])\n",
    "            except:\n",
    "                continue\n",
    "            fb_watch = (i(\"._1t6k .fcg\").text())\n",
    "        else:\n",
    "            try:\n",
    "                fb_msg = i(\"._3vum a._42ft\").text().split()[0]\n",
    "            except:\n",
    "                fb_msg = \"-1\"\n",
    "            try:\n",
    "                fb_share = i(\"._3vum a._42ft\").text().split()[1]\n",
    "            except:\n",
    "                fb_share = \"-1\"\n",
    "            fb_watch = \"post\"\n",
    "        my_list1 = [fb_time,fb_content,fb_like,fb_msg,fb_share,fb_watch]\n",
    "        my_list2.append(my_list1)\n",
    "    return my_list2"
   ]
  },
  {
   "cell_type": "code",
   "execution_count": 4,
   "metadata": {},
   "outputs": [],
   "source": [
    "# fb_format_data_frame\n",
    "def fb_format_df(fb_person_list):\n",
    "    #格式調整\n",
    "    t3=datetime.datetime.now()\n",
    "    my_list3 = []\n",
    "    for i in fb_person_list:\n",
    "        my_list2 = []\n",
    "        #時間： 沒有年份補上今年，十、分、秒刪去\n",
    "        day = i[0].find(\"日\")\n",
    "        post_date = i[0][0:day+1]\n",
    "        if \"年\" not in post_date:\n",
    "            post_date = str(t3.year) + \"年\" + post_date\n",
    "        if \"日\" not in i[0]:\n",
    "            post_date = \"today\"\n",
    "\n",
    "        my_list2.append(post_date)\n",
    "        if post_date == \"today\":\n",
    "            time_value = time.time()\n",
    "        else:\n",
    "            try:\n",
    "                time_value = datetime.datetime.strptime(post_date,'%Y年%m月%d日').timestamp()\n",
    "            except:\n",
    "                continue\n",
    "        my_list2.append(time_value)\n",
    "\n",
    "        my_list2.append(i[1])\n",
    "        #按讚數 去逗點、去萬\n",
    "        like = i[2].replace(\",\",\"\")\n",
    "        if len(like.split()) != 1:\n",
    "            like = float(like.split()[0])*10000\n",
    "        my_list2.append(int(like))\n",
    "        leave_msg = i[3].replace(\"則留言\",\"\").replace(\",\",\"\")\n",
    "        if leave_msg == 'video':\n",
    "            leave_msg = \"-1\"\n",
    "        try:\n",
    "            my_list2.append(int(leave_msg))\n",
    "        except:\n",
    "            try:\n",
    "                leave_msg = float(leave_msg.split()[0])*10000\n",
    "            except:\n",
    "                continue\n",
    "        share = i[4].replace(\"次分享\",\"\").replace(\",\",\"\")\n",
    "        try:\n",
    "            my_list2.append(int(share))\n",
    "        except:\n",
    "            my_list2.append(-1)\n",
    "            \n",
    "        fb_watch = i[5]\n",
    "        if fb_watch == 'post':\n",
    "            fb_watch = \"-1\"\n",
    "        if len(fb_watch.split()) != 1:\n",
    "            try:\n",
    "                fb_watch = float(fb_watch.split(' ')[0])*10000\n",
    "            except:\n",
    "                fb_watch = float(fb_watch.split('\\xa0萬')[0])*10000\n",
    "        my_list2.append(int(fb_watch))\n",
    "        my_list3.append(my_list2)\n",
    "\n",
    "    df = pd.DataFrame(my_list3,columns=['時間','時間數值','內容','按讚','留言','分享','觀看次數'])\n",
    "    return df"
   ]
  },
  {
   "cell_type": "code",
   "execution_count": 5,
   "metadata": {
    "scrolled": true
   },
   "outputs": [
    {
     "name": "stdout",
     "output_type": "stream",
     "text": [
      "請輸入網址: https://www.facebook.com/DoctorKoWJ/\n",
      "請輸入存檔名稱: DoctorKoWJ\n",
      "完成\n"
     ]
    }
   ],
   "source": [
    "url = input(\"請輸入網址: \")\n",
    "# url = \"https://www.facebook.com/DoctorKoWJ/\"\n",
    "\n",
    "name = input(\"請輸入存檔名稱: \")\n",
    "# name = \"DoctorKoWJ\"\n",
    "\n",
    "driver = webdriver.Chrome('./chromedriver')\n",
    "\n",
    "fans_lists=[]\n",
    "fans_list = fb_Crawler(url)\n",
    "single_fans_df = fb_format_df(fans_list)\n",
    "single_fans_df.to_csv('data/fb_{}.csv'.format(name))\n",
    "driver.close()\n",
    "print(\"完成\")"
   ]
  },
  {
   "cell_type": "markdown",
   "metadata": {},
   "source": [
    "my_input = input()\n",
    "my_df = pd.read_csv('./data/fb_{}.csv'.format(my_input))\n",
    "my_df"
   ]
  }
 ],
 "metadata": {
  "kernelspec": {
   "display_name": "Python 3",
   "language": "python",
   "name": "python3"
  },
  "language_info": {
   "codemirror_mode": {
    "name": "ipython",
    "version": 3
   },
   "file_extension": ".py",
   "mimetype": "text/x-python",
   "name": "python",
   "nbconvert_exporter": "python",
   "pygments_lexer": "ipython3",
   "version": "3.6.5"
  }
 },
 "nbformat": 4,
 "nbformat_minor": 2
}
